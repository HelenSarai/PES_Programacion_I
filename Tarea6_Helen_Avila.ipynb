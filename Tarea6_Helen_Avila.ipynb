{
 "cells": [
  {
   "cell_type": "markdown",
   "metadata": {},
   "source": [
    "# Tarea #6\n",
    "**Programacion I**  \n",
    "**Helen Saraí Avila Cabrera**"
   ]
  },
  {
   "cell_type": "markdown",
   "metadata": {},
   "source": [
    "## Ejercicio 1\n",
    "\n",
    "Ejecute el siguiente programa y explique su procedimiento y el porqué del resultado. "
   ]
  },
  {
   "cell_type": "code",
   "execution_count": 1,
   "metadata": {},
   "outputs": [],
   "source": [
    "import pdb"
   ]
  },
  {
   "cell_type": "code",
   "execution_count": 2,
   "metadata": {},
   "outputs": [
    {
     "ename": "RecursionError",
     "evalue": "maximum recursion depth exceeded",
     "output_type": "error",
     "traceback": [
      "\u001b[0;31m---------------------------------------------------------------------------\u001b[0m",
      "\u001b[0;31mRecursionError\u001b[0m                            Traceback (most recent call last)",
      "\u001b[0;32m<ipython-input-2-7c2d109e2ade>\u001b[0m in \u001b[0;36m<module>\u001b[0;34m\u001b[0m\n\u001b[1;32m      2\u001b[0m     \u001b[0mf\u001b[0m\u001b[0;34m(\u001b[0m\u001b[0mf\u001b[0m\u001b[0;34m)\u001b[0m\u001b[0;34m\u001b[0m\u001b[0;34m\u001b[0m\u001b[0m\n\u001b[1;32m      3\u001b[0m \u001b[0;31m#pdb.set_trace()\u001b[0m\u001b[0;34m\u001b[0m\u001b[0;34m\u001b[0m\u001b[0;34m\u001b[0m\u001b[0m\n\u001b[0;32m----> 4\u001b[0;31m \u001b[0mRecusion\u001b[0m\u001b[0;34m(\u001b[0m\u001b[0mRecusion\u001b[0m\u001b[0;34m)\u001b[0m\u001b[0;34m\u001b[0m\u001b[0;34m\u001b[0m\u001b[0m\n\u001b[0m",
      "\u001b[0;32m<ipython-input-2-7c2d109e2ade>\u001b[0m in \u001b[0;36mRecusion\u001b[0;34m(f)\u001b[0m\n\u001b[1;32m      1\u001b[0m \u001b[0;32mdef\u001b[0m \u001b[0mRecusion\u001b[0m\u001b[0;34m(\u001b[0m\u001b[0mf\u001b[0m\u001b[0;34m)\u001b[0m\u001b[0;34m:\u001b[0m\u001b[0;34m\u001b[0m\u001b[0;34m\u001b[0m\u001b[0m\n\u001b[0;32m----> 2\u001b[0;31m     \u001b[0mf\u001b[0m\u001b[0;34m(\u001b[0m\u001b[0mf\u001b[0m\u001b[0;34m)\u001b[0m\u001b[0;34m\u001b[0m\u001b[0;34m\u001b[0m\u001b[0m\n\u001b[0m\u001b[1;32m      3\u001b[0m \u001b[0;31m#pdb.set_trace()\u001b[0m\u001b[0;34m\u001b[0m\u001b[0;34m\u001b[0m\u001b[0;34m\u001b[0m\u001b[0m\n\u001b[1;32m      4\u001b[0m \u001b[0mRecusion\u001b[0m\u001b[0;34m(\u001b[0m\u001b[0mRecusion\u001b[0m\u001b[0;34m)\u001b[0m\u001b[0;34m\u001b[0m\u001b[0;34m\u001b[0m\u001b[0m\n",
      "... last 1 frames repeated, from the frame below ...\n",
      "\u001b[0;32m<ipython-input-2-7c2d109e2ade>\u001b[0m in \u001b[0;36mRecusion\u001b[0;34m(f)\u001b[0m\n\u001b[1;32m      1\u001b[0m \u001b[0;32mdef\u001b[0m \u001b[0mRecusion\u001b[0m\u001b[0;34m(\u001b[0m\u001b[0mf\u001b[0m\u001b[0;34m)\u001b[0m\u001b[0;34m:\u001b[0m\u001b[0;34m\u001b[0m\u001b[0;34m\u001b[0m\u001b[0m\n\u001b[0;32m----> 2\u001b[0;31m     \u001b[0mf\u001b[0m\u001b[0;34m(\u001b[0m\u001b[0mf\u001b[0m\u001b[0;34m)\u001b[0m\u001b[0;34m\u001b[0m\u001b[0;34m\u001b[0m\u001b[0m\n\u001b[0m\u001b[1;32m      3\u001b[0m \u001b[0;31m#pdb.set_trace()\u001b[0m\u001b[0;34m\u001b[0m\u001b[0;34m\u001b[0m\u001b[0;34m\u001b[0m\u001b[0m\n\u001b[1;32m      4\u001b[0m \u001b[0mRecusion\u001b[0m\u001b[0;34m(\u001b[0m\u001b[0mRecusion\u001b[0m\u001b[0;34m)\u001b[0m\u001b[0;34m\u001b[0m\u001b[0;34m\u001b[0m\u001b[0m\n",
      "\u001b[0;31mRecursionError\u001b[0m: maximum recursion depth exceeded"
     ]
    }
   ],
   "source": [
    "def Recusion(f):\n",
    "    f(f)\n",
    "#pdb.set_trace()  \n",
    "Recusion(Recusion)  "
   ]
  },
  {
   "cell_type": "markdown",
   "metadata": {},
   "source": [
    "***Existe un error porque la recursión no se esta utilizando de manera adecuada, ya que no existe alguna validacion como un (if) en donde la recursión finalice. Por lo que el error es que existe muchas recursiones.***"
   ]
  },
  {
   "cell_type": "markdown",
   "metadata": {},
   "source": [
    "## Ejercicio 2\n",
    "\n",
    "Vea el siguiente vídeo: <https://www.youtube.com/watch?v=qxRW5pDT2o4>  \n",
    "\n",
    "Complete el código siguiente para encontrar el máximo común divisor dado dos números enteros. \n",
    "\n",
    "Las condiciones básicas, son:"
   ]
  },
  {
   "cell_type": "markdown",
   "metadata": {},
   "source": [
    "Para dos números $a$ y $b$, tal que $b\\leq a$:\n",
    "* $mcd(a,0) = a$\n",
    "* Si $b\\vert a$ (divida enteramente), entonces $mcd(a,b)=b$\n",
    "* En otro caso, $mcd(a,b) = mcd(b,a \\,mod \\, b)$\n",
    "\n"
   ]
  },
  {
   "cell_type": "code",
   "execution_count": 62,
   "metadata": {},
   "outputs": [
    {
     "name": "stdout",
     "output_type": "stream",
     "text": [
      "24\n"
     ]
    }
   ],
   "source": [
    "def mcd(a,b): #Funcion que recibe un par de números y devuelve el minimo común divisor.  \n",
    "    '''Donde a >= b'''\n",
    "    \n",
    "    if b == 0: #Si en caso b fuera igual a 0 el mcd sería el número a, ya que no se puede dividir sobre 0.  \n",
    "        return a \n",
    "    elif a % b == 0: #Y si el residuo entre la división de (a/b) es igual a 0, quiere decir que b sería el mcd.\n",
    "        return b\n",
    "    else:\n",
    "        return mcd(b,a%b) #Si en caso no se cumplen ninguna de las condiciones anteriores, se aplica la recursión para encontrar el mcd. \n",
    "\n",
    "print(mcd(24,0))\n",
    "\n",
    "    "
   ]
  },
  {
   "cell_type": "markdown",
   "metadata": {},
   "source": [
    "## Ejercicio 3\n",
    "\n",
    "Implemente un algoritmo recursivo para obtener la parte entera de la división entre dos números enteros. (Pista: Asocie con la resta)."
   ]
  },
  {
   "cell_type": "code",
   "execution_count": 5,
   "metadata": {},
   "outputs": [],
   "source": [
    "def division(dividendo,divisor): #a es el dividendo y b es el divisor. \n",
    "    \"\"\"\n",
    "    Función que recibe un dividendo y un divisor y encuentra el cociente mediante recursión. \n",
    "    \"\"\"\n",
    "    if divisor==1: #Si el divisor es igual a uno el cociente sería el dividendo.\n",
    "        return dividendo\n",
    "    elif dividendo<divisor: #Y si el dividendo es menor al divisor, quiere decir que la división ya no es entera por lo que devuelve un 0. \n",
    "        return 0\n",
    "    else: \n",
    "        resultado=division(dividendo-divisor,divisor) #Se utiliza recursión, y se suma 1 al cociente. \n",
    "    return resultado + 1"
   ]
  },
  {
   "cell_type": "code",
   "execution_count": 6,
   "metadata": {},
   "outputs": [
    {
     "name": "stdout",
     "output_type": "stream",
     "text": [
      "El resultado es:  3\n"
     ]
    }
   ],
   "source": [
    "dividendo = 7\n",
    "divisor = 2\n",
    "\n",
    "print(\"El resultado es: \", division(dividendo,divisor))"
   ]
  },
  {
   "cell_type": "markdown",
   "metadata": {},
   "source": [
    "# Ejercicio 4\n",
    "\n",
    "En el ejemplo de clase (Coordinate), modifique el método constructor para que verifique que los argumentos $x$ y $y$ sean flotantes.  "
   ]
  },
  {
   "cell_type": "code",
   "execution_count": 7,
   "metadata": {},
   "outputs": [],
   "source": [
    "class Coordinate(object):\n",
    "   \n",
    "    # Método constructor\n",
    "    def __init__(self, x, y):\n",
    "        \"\"\" \n",
    "        Se definen x y y como numeros flotantes \"float\".\n",
    "        \"\"\"\n",
    "        assert type(x) == float and type(y) == float, \"No se están utilizando variables tipo float.\"\n",
    "        #Incluso se envia un mensaje de error si en caso no se ingresa una variable de ese tipo. \n",
    "        self.x = x\n",
    "        self.y = y\n",
    "    "
   ]
  },
  {
   "cell_type": "code",
   "execution_count": 8,
   "metadata": {},
   "outputs": [
    {
     "data": {
      "text/plain": [
       "__main__.Coordinate"
      ]
     },
     "execution_count": 8,
     "metadata": {},
     "output_type": "execute_result"
    }
   ],
   "source": [
    "#Definir instancia:\n",
    "\n",
    "posicion1=Coordinate(1.9,1.5)\n",
    "type(posicion1)\n"
   ]
  },
  {
   "cell_type": "markdown",
   "metadata": {},
   "source": [
    "# Ejercicio 5\n",
    "\n",
    "1. Cree una clase llamada ``Persona``, que asigne una cadena a la propiedad ``nombre`` y un número entero a la propiedad ``edad``. Al imprimir el objeto, debe concatenar tanto el nombre con la edad. \n",
    "2. A la clase anterior, añada un método para sumar dos objetos de tipo ``Persona``. El resultado debe ser ambos nombres concatenados y la suma de ambas edades.\n",
    "3. Modifique la clase para que el objeto tenga otra propiedad llamada ``altura``. Cuando se solicite la longitud del objeto, muestre la altura. También debe modificar el método de impresión para que muestre la altura. ¿Qué pasa con el método de suma?\n",
    "\n"
   ]
  },
  {
   "cell_type": "code",
   "execution_count": 25,
   "metadata": {},
   "outputs": [],
   "source": [
    "#Inciso 1 y 2\n",
    "class Persona (object):\n",
    "     # Método constructor\n",
    "    def __init__(self, nombre, edad):\n",
    "        \"\"\" \n",
    "        Define nombre como variable tipo str y edad como numeros entero.\n",
    "        \"\"\"\n",
    "        assert type(nombre) == str and type(edad) == int, \"No se están nombrando correctamente las variables.\"\n",
    "        #Se envia un mensaje de error si en caso no se ingresa una variable de ese tipo. \n",
    "        self.nombre = nombre\n",
    "        self.edad = edad\n",
    "        \n",
    "     # Método de impresión\n",
    "    def __str__(self): #Al utilizar el comando print se imprimirá la información de la persona. \n",
    "        \"\"\"\n",
    "        Función para imprimir el nombre y la edad de la persona. \n",
    "        \"\"\"\n",
    "        return \"Objeto Persona, nombre: \"+self.nombre+\", edad: \"+str(self.edad)\n",
    "\n",
    "    # Método para sumar elementos\n",
    "    def concatenar(self, other):\n",
    "        \"\"\"\n",
    "        Crea una sola cadena de texto para los nombres y suma las edades. \n",
    "        \"\"\"\n",
    "        nombres = str(self.nombre +\", \"+ other.nombre)\n",
    "        edades = \", \"+str(self.edad + other.edad)\n",
    "        return (nombres + edades)"
   ]
  },
  {
   "cell_type": "code",
   "execution_count": 26,
   "metadata": {
    "scrolled": true
   },
   "outputs": [
    {
     "name": "stdout",
     "output_type": "stream",
     "text": [
      "Objeto Persona, nombre: Saraí Avila, edad: 24\n"
     ]
    }
   ],
   "source": [
    "Persona1=Persona(\"Saraí Avila\",24)\n",
    "print(Persona1)"
   ]
  },
  {
   "cell_type": "code",
   "execution_count": 27,
   "metadata": {},
   "outputs": [],
   "source": [
    "Persona1=Persona(\"Helen Avila\",24)\n",
    "Persona2=Persona(\"Byron Aguilar\",26)"
   ]
  },
  {
   "cell_type": "code",
   "execution_count": 28,
   "metadata": {},
   "outputs": [
    {
     "data": {
      "text/plain": [
       "'Helen Avila, Byron Aguilar, 50'"
      ]
     },
     "execution_count": 28,
     "metadata": {},
     "output_type": "execute_result"
    }
   ],
   "source": [
    "Persona.concatenar(Persona1,Persona2)"
   ]
  },
  {
   "cell_type": "code",
   "execution_count": 13,
   "metadata": {},
   "outputs": [],
   "source": [
    "#Inciso 3\n",
    "class Persona(object):\n",
    "     # Método constructor\n",
    "    def __init__(self,nombre,edad,altura):\n",
    "        \"\"\" \n",
    "        Define nombre como variable tipo str y edad como numeros entero.\n",
    "        \"\"\"\n",
    "        assert type(nombre) == str and type(edad) == int and type(altura) == int, \"No se están nombrando correctamente las variables.\"\n",
    "        #Se envia un mensaje de error si en caso no se ingresa una variable de ese tipo. \n",
    "        self.nombre = nombre\n",
    "        self.edad = edad\n",
    "        self.altura = altura\n",
    "        \n",
    "     # Método de impresión\n",
    "    def __str__(self):\n",
    "        \"\"\"\n",
    "        Función para imprimir el nombre y la edad de la persona. \n",
    "        \"\"\"\n",
    "        return \"Objeto Persona, nombre: \"+self.nombre+\", edad: \"+str(self.edad)+\", altura: \"+str(self.altura)\n",
    "\n",
    "    # Método para sumar elementos\n",
    "         \"\"\"\n",
    "        Crea una sola cadena de texto para los nombres y suma las edades y alturas. \n",
    "        \"\"\"\n",
    "    def concatenar(self, other):\n",
    "        nombres = str(self.nombre+\", \"+other.nombre)\n",
    "        edades = \", \"+str(self.edad + other.edad)\n",
    "        alturas = \", \"+str(self.altura + other.altura)\n",
    "        return (nombres + edades+alturas) #Se retorna una cadena de texto. \n",
    "    \n",
    "    def __len__(self):\n",
    "        return self.altura #Se determina que la longitud de la variable que nombra a una persona es la altura. "
   ]
  },
  {
   "cell_type": "code",
   "execution_count": 15,
   "metadata": {},
   "outputs": [],
   "source": [
    "Persona1=Persona(\"Saraí Avila\",24,1)\n",
    "Persona2=Persona(\"Byron Aguilar\",26,1)"
   ]
  },
  {
   "cell_type": "code",
   "execution_count": 16,
   "metadata": {},
   "outputs": [
    {
     "data": {
      "text/plain": [
       "'Saraí Avila, Byron Aguilar, 50, 2'"
      ]
     },
     "execution_count": 16,
     "metadata": {},
     "output_type": "execute_result"
    }
   ],
   "source": [
    "Persona.concatenar(Persona1,Persona2)"
   ]
  },
  {
   "cell_type": "code",
   "execution_count": 17,
   "metadata": {},
   "outputs": [
    {
     "data": {
      "text/plain": [
       "1"
      ]
     },
     "execution_count": 17,
     "metadata": {},
     "output_type": "execute_result"
    }
   ],
   "source": [
    "len(Persona1)"
   ]
  },
  {
   "cell_type": "markdown",
   "metadata": {},
   "source": [
    "## EJERCICIOS DADOS EN CLASE: "
   ]
  },
  {
   "cell_type": "markdown",
   "metadata": {},
   "source": [
    "### EJERCICIO 1:"
   ]
  },
  {
   "cell_type": "code",
   "execution_count": 43,
   "metadata": {},
   "outputs": [],
   "source": [
    "class Canasta (object):\n",
    "     # Método constructor\n",
    "    def __init__(self,cerveza,ocio,ceviche):\n",
    "        \"\"\" \n",
    "        Define cerveza, ocio, ceviche como variables int.\n",
    "        \"\"\"\n",
    "        assert type(cerveza) == int and type(ocio) == int and type(ceviche) == int, \"No se están nombrando correctamente las variables.\"\n",
    "        #Se envia un mensaje de error si en caso no se ingresa una variable de ese tipo. \n",
    "        self.cerveza = cerveza\n",
    "        self.ocio = ocio\n",
    "        self.ceviche = ceviche\n",
    "    \n",
    "    def utilidadCanasta(self):\n",
    "        \"\"\"\n",
    "        Se calcula la utilidad de cada canasta. Segun una funcion dada. \n",
    "        \"\"\"\n",
    "        utilidad = ((self.cerveza**0.3))*((self.ocio**0.6))*((self.ceviche**0.1))\n",
    "        return utilidad #Retorna el valor de la utilidad de determinada canasta.\n",
    "    \n",
    "    def indiferentes(self,other): #Las canastas son indiferentes es decir iguales. \n",
    "        utilidadC1 = Canasta.utilidadCanasta(self)\n",
    "        utilidadC2 = Canasta.utilidadCanasta(other)#Se utiliza la función creada en el objeto. \n",
    "        return \"La utilidad de la Canasta 1 y la Canasta 2 son iguales.\"\n",
    "    \n",
    "    def diferentes(self,other): #Las canastas son diferentes por lo que se deben de analizar.\n",
    "        utilidadC1 = Canasta.utilidadCanasta(self) #Se utiliza la función creada en el objeto. \n",
    "        utilidadC2 = Canasta.utilidadCanasta(other)\n",
    "        \n",
    "        if utilidadC1<utilidadC2:\n",
    "            return \"La Canasta 2 es mejor elección, que la Canasta 1.\"\n",
    "        \n",
    "        if utilidadC1>utilidadC2:\n",
    "            return \"La Canasta 1 es mejor elección, que la Canasta 2.\""
   ]
  },
  {
   "cell_type": "code",
   "execution_count": 45,
   "metadata": {},
   "outputs": [
    {
     "data": {
      "text/plain": [
       "'La utilidad de la Canasta 1 y la Canasta 2 son iguales.'"
      ]
     },
     "execution_count": 45,
     "metadata": {},
     "output_type": "execute_result"
    }
   ],
   "source": [
    "C1 = Canasta(4, 8, 10)\n",
    "C2 = Canasta(4, 8, 10)\n",
    "\n",
    "Canasta.indiferentes(C1,C2)"
   ]
  },
  {
   "cell_type": "code",
   "execution_count": 46,
   "metadata": {},
   "outputs": [
    {
     "data": {
      "text/plain": [
       "'La Canasta 2 es mejor elección, que la Canasta 1.'"
      ]
     },
     "execution_count": 46,
     "metadata": {},
     "output_type": "execute_result"
    }
   ],
   "source": [
    "C1 = Canasta(4, 8, 10)\n",
    "C2 = Canasta(4, 13, 10)\n",
    "\n",
    "Canasta.diferentes(C1,C2)"
   ]
  },
  {
   "cell_type": "markdown",
   "metadata": {},
   "source": [
    "### EJERCICIO 2:"
   ]
  },
  {
   "cell_type": "code",
   "execution_count": 57,
   "metadata": {},
   "outputs": [],
   "source": [
    "class Mensaje(object):\n",
    "    \n",
    "    def __init__(self, msg):\n",
    "        self.msg = str(msg)\n",
    "        \n",
    "    def encriptar(self):\n",
    "        ''' Este método devuelve la cadena encriptada con \n",
    "        cifrado César con rotación rot'''\n",
    "        lista=list(self.msg)\n",
    "        rot = \"\"\n",
    "        \n",
    "        for x in range(len(lista)):\n",
    "            rot += chr((ord(lista[x])+3))\n",
    "        return rot\n",
    "                    "
   ]
  },
  {
   "cell_type": "code",
   "execution_count": 61,
   "metadata": {},
   "outputs": [
    {
     "data": {
      "text/plain": [
       "'krod'"
      ]
     },
     "execution_count": 61,
     "metadata": {},
     "output_type": "execute_result"
    }
   ],
   "source": [
    "mensaje = Mensaje(\"hola\")\n",
    "Mensaje.encriptar(mensaje)\n"
   ]
  },
  {
   "cell_type": "code",
   "execution_count": null,
   "metadata": {},
   "outputs": [],
   "source": []
  }
 ],
 "metadata": {
  "kernelspec": {
   "display_name": "Python 3",
   "language": "python",
   "name": "python3"
  },
  "language_info": {
   "codemirror_mode": {
    "name": "ipython",
    "version": 3
   },
   "file_extension": ".py",
   "mimetype": "text/x-python",
   "name": "python",
   "nbconvert_exporter": "python",
   "pygments_lexer": "ipython3",
   "version": "3.7.4"
  }
 },
 "nbformat": 4,
 "nbformat_minor": 2
}
