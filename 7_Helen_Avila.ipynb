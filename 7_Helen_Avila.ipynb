{
 "cells": [
  {
   "cell_type": "markdown",
   "metadata": {},
   "source": [
    "## Clase `Dice`\n",
    "\n",
    "Implementar una clase denominada `Dice`, que funcione como un conjunto de $n$ dados. La clase debe recibir como argumento el número de dados a tirar. Además, la clase debe implementar:\n",
    "\n",
    "- Un método de `roll()` que simula la tirada de los $n$ dados y guarda internamente una lista con los valores resultantes. No devuelve nada.\n",
    "    \n",
    "    - Si no se ha llamado a `roll()`, la lista interna debe ser vacía.\n",
    "\n",
    "- Un método `getLastRoll()` que devuelve la lista con los valores de la última tirada.\n",
    "\n",
    "- Un método `getRollSum()` que devuelve la suma de los valores de la última tirada.\n",
    "\n",
    "    - Si no se ha llamado a `roll()`, debe devolver cero."
   ]
  },
  {
   "cell_type": "code",
   "execution_count": 5,
   "metadata": {},
   "outputs": [
    {
     "data": {
      "text/plain": [
       "3"
      ]
     },
     "execution_count": 5,
     "metadata": {},
     "output_type": "execute_result"
    }
   ],
   "source": [
    "# Ayuda, utilizar la siguiente función del módulo random\n",
    "import random\n",
    "random.randint(1,6)"
   ]
  },
  {
   "cell_type": "code",
   "execution_count": 66,
   "metadata": {},
   "outputs": [],
   "source": [
    "class Dice:\n",
    "    def __init__(self, n):\n",
    "        self.n = n\n",
    "        self.listaint = []\n",
    "        \n",
    "    def roll(self): \n",
    "        \"\"\"\n",
    "        Recibe el número de dados y guarda en una lista los valores resultantes. No devuelve nada.\n",
    "        \"\"\"\n",
    "        self.listaint = []\n",
    "        for dado in range (self.n):\n",
    "            numero = random.randint(1,6) #Por cada dado se genera un número aleatorio en el rango de 1 a 6. \n",
    "            self.listaint.append(numero) #Se agrega a la lista el número aleatorio de cada dado. \n",
    "      \n",
    "\n",
    "    def getLastRoll(self):\n",
    "        \"\"\"\n",
    "        Devuelve la lista generada al utilizar roll.\n",
    "        \"\"\"\n",
    "        return self.listaint\n",
    "    \n",
    "    def getRollSum(self):\n",
    "        \"\"\"\n",
    "        Recibe la lista con los valores resultantes de la última tirada y retorna la suma de los elementos de la lista. \n",
    "        \"\"\"\n",
    "        suma = sum(self.listaint) #Función de suma, que suma todos los elementos de una lista. \n",
    "        return suma"
   ]
  },
  {
   "cell_type": "code",
   "execution_count": 67,
   "metadata": {},
   "outputs": [
    {
     "data": {
      "text/plain": [
       "[]"
      ]
     },
     "execution_count": 67,
     "metadata": {},
     "output_type": "execute_result"
    }
   ],
   "source": [
    "a = Dice(2)\n",
    "a.getLastRoll()\n",
    "# Devuelve lista vacía"
   ]
  },
  {
   "cell_type": "code",
   "execution_count": 68,
   "metadata": {},
   "outputs": [
    {
     "data": {
      "text/plain": [
       "0"
      ]
     },
     "execution_count": 68,
     "metadata": {},
     "output_type": "execute_result"
    }
   ],
   "source": [
    "a.getRollSum()\n",
    "# Devuelve 0"
   ]
  },
  {
   "cell_type": "code",
   "execution_count": 69,
   "metadata": {},
   "outputs": [
    {
     "data": {
      "text/plain": [
       "[1, 5]"
      ]
     },
     "execution_count": 69,
     "metadata": {},
     "output_type": "execute_result"
    }
   ],
   "source": [
    "a.roll()\n",
    "a.getLastRoll()\n",
    "# Devuelve lista con dos números"
   ]
  },
  {
   "cell_type": "code",
   "execution_count": 70,
   "metadata": {},
   "outputs": [
    {
     "data": {
      "text/plain": [
       "6"
      ]
     },
     "execution_count": 70,
     "metadata": {},
     "output_type": "execute_result"
    }
   ],
   "source": [
    "a.getRollSum()\n",
    "# Devuelve la suma de los números de la lista anterior"
   ]
  },
  {
   "cell_type": "markdown",
   "metadata": {},
   "source": [
    "## Herencia de la clase `Rectangle`"
   ]
  },
  {
   "cell_type": "code",
   "execution_count": 60,
   "metadata": {},
   "outputs": [],
   "source": [
    "class Rectangle(object):\n",
    "    def __init__(self, length, width):\n",
    "        self.length = length\n",
    "        self.width = width\n",
    "        \n",
    "    def area(self):\n",
    "        return self.width * self.length\n",
    "    \n",
    "    def perimeter(self):\n",
    "        return (2*self.length) + (2*self.width)\n",
    "    \n",
    "class Square(Rectangle):\n",
    "    '''\n",
    "        Redefinir el método constructor, sin redefinir las funciones de área\n",
    "        y perímetro, para que un objeto de tipo Square con:\n",
    "            .area() devuelva el área de un cuadrado de tamaño length y\n",
    "            .perimeter() devuelva el perímetro del cuadrado\n",
    "    '''\n",
    "    def __init__(self, length):\n",
    "        Rectangle.__init__(self,length,length) #El cuadrado unicamente recibe un dato el cual es el largo. \n",
    "        \n",
    "class Cube(Square):\n",
    "    '''\n",
    "        Heredar de Square todos los métodos (incluido el constructor) y \n",
    "        agregar un método para obtener el volumen de un objeto de tipo Cube.\n",
    "    '''\n",
    "    def volume(self):\n",
    "        return self.length**3 #Se crea la definición del volumen de un cubo el cual es lado^3."
   ]
  },
  {
   "cell_type": "markdown",
   "metadata": {},
   "source": [
    "Nota: instancie algunos objetos y muestre que sus métodos funcionan correctamente."
   ]
  },
  {
   "cell_type": "code",
   "execution_count": 61,
   "metadata": {},
   "outputs": [
    {
     "data": {
      "text/plain": [
       "20"
      ]
     },
     "execution_count": 61,
     "metadata": {},
     "output_type": "execute_result"
    }
   ],
   "source": [
    "#Area de un Rectangulo\n",
    "R1 = Rectangle(4,5)\n",
    "Rectangle.area(R1)"
   ]
  },
  {
   "cell_type": "code",
   "execution_count": 62,
   "metadata": {},
   "outputs": [
    {
     "data": {
      "text/plain": [
       "18"
      ]
     },
     "execution_count": 62,
     "metadata": {},
     "output_type": "execute_result"
    }
   ],
   "source": [
    "#Perimetro de un Rectangulo \n",
    "R1 = Rectangle(4,5)\n",
    "Rectangle.perimeter(R1)"
   ]
  },
  {
   "cell_type": "code",
   "execution_count": 63,
   "metadata": {},
   "outputs": [
    {
     "data": {
      "text/plain": [
       "25"
      ]
     },
     "execution_count": 63,
     "metadata": {},
     "output_type": "execute_result"
    }
   ],
   "source": [
    "#Area de un cuadrado\n",
    "C1 = Square(5)\n",
    "Rectangle.area(C1)"
   ]
  },
  {
   "cell_type": "code",
   "execution_count": 64,
   "metadata": {},
   "outputs": [
    {
     "data": {
      "text/plain": [
       "20"
      ]
     },
     "execution_count": 64,
     "metadata": {},
     "output_type": "execute_result"
    }
   ],
   "source": [
    "#Perimetro de un cuadrado\n",
    "C1 = Square(5)\n",
    "Rectangle.perimeter(C1)"
   ]
  },
  {
   "cell_type": "code",
   "execution_count": 65,
   "metadata": {},
   "outputs": [
    {
     "data": {
      "text/plain": [
       "125"
      ]
     },
     "execution_count": 65,
     "metadata": {},
     "output_type": "execute_result"
    }
   ],
   "source": [
    "#Volumen de un cubo \n",
    "C1 = Square(5)\n",
    "Cube.volume(C1)"
   ]
  },
  {
   "cell_type": "markdown",
   "metadata": {},
   "source": [
    "## Programando nuestro propio *Blockchain*\n",
    "\n",
    "Crear una clase denominada `Block` que almacene un diccionario con transacciones. La clase `Block` debe implementar:\n",
    "\n",
    "- Atributo de transacciones, representado con un diccionario `transactions`. Las llaves pueden ser alfanuméricas y los valores del diccionario representan los débitos ($-$) o créditos ($+$) relativas a una transacción.\n",
    "\n",
    "- Atributos `previousBlock` y `nextBlock` que apuntan a objetos tipo `Block` para referir al anterior y siguiente \"bloque\" en la cadena.\n",
    "    - Estos deben ser `None` por defecto en el constructor.\n",
    "    - Se deben programar métodos *getter* y *setter* para acceder y modificar estos atributos.\n",
    "    \n",
    "- Un método `getBlockID()` para obtener el ID de un bloque específico utilizando **variables de clase**.\n",
    "\n",
    "- Un método `getTransactions()` para obtener **una copia** del diccionario de transacciones.\n",
    "\n",
    "- La asignación consiste en completar el método `getBalanceFromHere()`, que computa el balance de las cuentas desde el bloque actual hasta el final del *blockchain*."
   ]
  },
  {
   "cell_type": "code",
   "execution_count": 13,
   "metadata": {},
   "outputs": [],
   "source": [
    "import copy"
   ]
  },
  {
   "cell_type": "code",
   "execution_count": 124,
   "metadata": {},
   "outputs": [],
   "source": [
    "class Block:\n",
    "    \n",
    "    blockCount = 0\n",
    "    \n",
    "    # Inicializa el bloque con el diccionario de transacciones \n",
    "    def __init__(self, transactions={}, previousBlock=None, nextBlock=None):\n",
    "        self.transactions = transactions\n",
    "        self.previousBlock = None\n",
    "        self.nextBlock = None\n",
    "        self.blockID = Block.blockCount\n",
    "        Block.blockCount += 1\n",
    "        \n",
    "    # Muestra el número de instancia y sus transacciones\n",
    "    def __str__(self):\n",
    "        return \"Block %d: \" % self.blockID + str(self.transactions)\n",
    "        \n",
    "    # Obtener el ID del bloque\n",
    "    def getBlockID(self):\n",
    "        return self.blockID\n",
    "    def getTransactions(self):\n",
    "        return self.transactions.copy()\n",
    "    \n",
    "    # Getters y setters para obtener bloque anterior y siguiente\n",
    "    def setPreviousBlock(self, block):\n",
    "        self.previousBlock = block\n",
    "    def getPreviousBlock(self):\n",
    "        return self.previousBlock\n",
    "    def setNextBlock(self, block):\n",
    "        self.nextBlock = block\n",
    "        block.setPreviousBlock(self)\n",
    "    def getNextBlock(self):\n",
    "        return self.nextBlock\n",
    "    \n",
    "    ''' Completar para computar la función de \n",
    "        balance a partir de este bloque. Devuelve un \n",
    "        diccionario con las llaves y su balance acumulado\n",
    "        a partir de este bloque (incluyendo las transacciones\n",
    "        de este bloque).\n",
    "    '''\n",
    "    def getBalanceFromHere(self):\n",
    "        \n",
    "        #antBloque = self.getPreviousBlock().transactions\n",
    "        actual = self.transactions\n",
    "        sigBloque = self.getNextBlock().transactions\n",
    "        \n",
    "        saldo = {} \n",
    "        #for i in range (Block.blockCount):\n",
    "        i = 0\n",
    "        #while i == Block.blockCount:             \n",
    "        \n",
    "        if self.blockID > 0:\n",
    "            for key in actual.keys():\n",
    "                if key in sigBloque.keys():\n",
    "                    saldo[key] = actual[key]+sigBloque[key]\n",
    "                else: \n",
    "                    saldo[key]=actual[key]\n",
    "            for key in sigBloque.keys():\n",
    "                if key not in actual.keys(): \n",
    "                    new = {key: sigBloque[key]}\n",
    "                    saldo.update(new)\n",
    "        else:\n",
    "            saldo = self.getNextBlock().getBalanceFromHere() \n",
    "            for key in actual.keys():\n",
    "                if key in sigBloque.keys():\n",
    "                    saldo[key] = actual[key]+sigBloque[key]\n",
    "                else: \n",
    "                    saldo[key]=actual[key]\n",
    "            \n",
    "            \n",
    "        return saldo\n",
    "        \n",
    "        \n",
    "        \n",
    "     "
   ]
  },
  {
   "cell_type": "code",
   "execution_count": 125,
   "metadata": {},
   "outputs": [
    {
     "name": "stdout",
     "output_type": "stream",
     "text": [
      "{'A': -10, 'C': 15, 'B': 10}\n"
     ]
    }
   ],
   "source": [
    "##PRUEBAS\n",
    "\n",
    "B0 = {'A': 50, 'B': -10, 'C': 5}\n",
    "B1 = {'A':-10, 'C':+10}\n",
    "B2 = {'B':+10, 'C':+5}\n",
    "\n",
    "saldo = {} \n",
    "for key in B1.keys():\n",
    "    if key in B2.keys():\n",
    "        saldo[key] = B1[key]+B2[key]\n",
    "    else: \n",
    "        saldo[key]=B1[key]\n",
    "for key in B2.keys():\n",
    "    if key not in B1.keys(): \n",
    "        new = {key: B2[key]}\n",
    "        saldo.update(new)\n",
    "\n",
    "print(saldo)"
   ]
  },
  {
   "cell_type": "code",
   "execution_count": 126,
   "metadata": {},
   "outputs": [
    {
     "name": "stdout",
     "output_type": "stream",
     "text": [
      "Block 0: {'A': 50, 'B': -10, 'C': 5}\n",
      "Block 1: {'A': -10, 'C': 10}\n",
      "Block 2: {'B': 10, 'C': 5}\n"
     ]
    }
   ],
   "source": [
    "# Creamos algunos bloques con transacciones\n",
    "B0 = Block({'A': 50, 'B': -10, 'C': 5})\n",
    "B1 = Block({'A':-10, 'C':+10})\n",
    "B2 = Block({'B':+10, 'C':+5})\n",
    "print(B0, B1, B2, sep='\\n')"
   ]
  },
  {
   "cell_type": "code",
   "execution_count": 127,
   "metadata": {},
   "outputs": [],
   "source": [
    "# Configuramos la cadena de bloques\n",
    "B0.setNextBlock(B1)\n",
    "B1.setNextBlock(B2)"
   ]
  },
  {
   "cell_type": "code",
   "execution_count": 128,
   "metadata": {},
   "outputs": [
    {
     "name": "stdout",
     "output_type": "stream",
     "text": [
      "Block 1: {'A': -10, 'C': 10}\n",
      "Block 2: {'B': 10, 'C': 5}\n"
     ]
    }
   ],
   "source": [
    "print(B0.getNextBlock())\n",
    "print(B1.getNextBlock())"
   ]
  },
  {
   "cell_type": "code",
   "execution_count": 129,
   "metadata": {},
   "outputs": [
    {
     "name": "stdout",
     "output_type": "stream",
     "text": [
      "Block 0: {'A': 50, 'B': -10, 'C': 5}\n",
      "Block 1: {'A': -10, 'C': 10}\n"
     ]
    }
   ],
   "source": [
    "print(B1.getPreviousBlock())\n",
    "print(B2.getPreviousBlock())"
   ]
  },
  {
   "cell_type": "code",
   "execution_count": 130,
   "metadata": {},
   "outputs": [
    {
     "name": "stdout",
     "output_type": "stream",
     "text": [
      "None\n"
     ]
    }
   ],
   "source": [
    "print(B0.getPreviousBlock())\n",
    "# Devuelve None"
   ]
  },
  {
   "cell_type": "code",
   "execution_count": 131,
   "metadata": {},
   "outputs": [
    {
     "name": "stdout",
     "output_type": "stream",
     "text": [
      "None\n"
     ]
    }
   ],
   "source": [
    "print(B2.getNextBlock())\n",
    "# Devuelve None"
   ]
  },
  {
   "cell_type": "code",
   "execution_count": 132,
   "metadata": {},
   "outputs": [
    {
     "data": {
      "text/plain": [
       "{'A': -10, 'C': 15, 'B': 10}"
      ]
     },
     "execution_count": 132,
     "metadata": {},
     "output_type": "execute_result"
    }
   ],
   "source": [
    "B1.getBalanceFromHere()\n",
    "# Debe devolver {'A': -10, 'C': 15, 'B': 10}"
   ]
  },
  {
   "cell_type": "code",
   "execution_count": 133,
   "metadata": {},
   "outputs": [
    {
     "data": {
      "text/plain": [
       "{'A': 40, 'C': 15, 'B': -10}"
      ]
     },
     "execution_count": 133,
     "metadata": {},
     "output_type": "execute_result"
    }
   ],
   "source": [
    "B0.getBalanceFromHere()\n",
    "# Debe devolver {'A': 40, 'B': 0, 'C': 20}"
   ]
  },
  {
   "cell_type": "code",
   "execution_count": null,
   "metadata": {},
   "outputs": [],
   "source": []
  }
 ],
 "metadata": {
  "kernelspec": {
   "display_name": "Python 3",
   "language": "python",
   "name": "python3"
  },
  "language_info": {
   "codemirror_mode": {
    "name": "ipython",
    "version": 3
   },
   "file_extension": ".py",
   "mimetype": "text/x-python",
   "name": "python",
   "nbconvert_exporter": "python",
   "pygments_lexer": "ipython3",
   "version": "3.7.4"
  }
 },
 "nbformat": 4,
 "nbformat_minor": 2
}
